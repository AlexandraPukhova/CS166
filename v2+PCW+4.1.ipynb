{
 "cells": [
  {
   "cell_type": "code",
   "execution_count": 1,
   "metadata": {
    "collapsed": true
   },
   "outputs": [],
   "source": [
    "import numpy as np\n",
    "import random as rd\n",
    "rd.seed(5)"
   ]
  },
  {
   "cell_type": "code",
   "execution_count": 63,
   "metadata": {},
   "outputs": [],
   "source": [
    "class TrafficSimulation():\n",
    "    \n",
    "    def __init__(self, max_velocity, traffic_density, road_length, p_of_slowing_down):\n",
    "        \n",
    "        self.road_length = int(road_length)\n",
    "        self.max_velocity = max_velocity # speed limit on the road\n",
    "        \n",
    "        # initializing the road, current state of the road, populating it with random velocities\n",
    "        self.current_state = np.random.randint(low=1, high=self.max_velocity+1, size=self.road_length)\n",
    "        self.next_state = np.full(self.road_length, -1)\n",
    "        \n",
    "        self.traffic_density = traffic_density\n",
    "        self.p_of_slowing_down = p_of_slowing_down   \n",
    "\n",
    "        self.distance_to_next_car = 0\n",
    "        \n",
    "    def populate_cars(self):\n",
    "        \n",
    "        # Considering the traffic density, replace some cars with empty spaces, i.e. -1s\n",
    "        for i in range(self.road_length):\n",
    "            if rd.uniform(0, 1) > self.traffic_density:\n",
    "                self.current_state[i] = -1\n",
    "        \n",
    "    def update(self):\n",
    "        self.next_state = np.full(self.road_length, -1)\n",
    "\n",
    "        for i in range(self.road_length):\n",
    "            \n",
    "            if self.current_state[i] > -1:  \n",
    "                velocity = self.current_state[i]\n",
    "                if velocity < self.max_velocity:\n",
    "                    velocity += 1\n",
    "                \n",
    "                j = i+2+velocity\n",
    "                self.next_state[i] = velocity\n",
    "                if j >= len(self.current_state):\n",
    "                    last_indexes = list(range(i+1, self.road_length))\n",
    "                    beg_indexes = list(range(0, j - self.road_length))\n",
    "                    indexes = last_indexes + beg_indexes\n",
    "                else:\n",
    "                    indexes = list(range(i+1, i+1+velocity))\n",
    "                '''\n",
    "                [-1,1,-1,2,-1]\n",
    "                for 2, i = 3; len=5, j=6\n",
    "                    1st indexes: range(4, 4) = [4]\n",
    "                    2nd indexes: range(0,1) = [0]\n",
    "                    \n",
    "                '''\n",
    "                dist_to_next_car = 0\n",
    "                for cell_index in indexes:\n",
    "                    \n",
    "                    if self.current_state[cell_index] == -1:\n",
    "                        dist_to_next_car += 1\n",
    "                    else:\n",
    "                        break\n",
    "                \n",
    "                if dist_to_next_car < velocity:\n",
    "                    self.next_state[i] = dist_to_next_car\n",
    "                    \n",
    "#                 if rd.uniform(0, 1) > self.p_of_slowing_down: # random decrease in velocity\n",
    "#                     self.next_state[i] -= 1 \n",
    "                    \n",
    "            else:\n",
    "                self.next_state[i] = -1\n",
    "        \n",
    "        new_state = [-1 for i in range(self.road_length)]\n",
    "        \n",
    "        # parallel advancing \n",
    "        for i in range(self.road_length):\n",
    "            if self.next_state[i] > -1: \n",
    "                next_move = self.next_state[i]\n",
    "                j = i + next_move\n",
    "                \n",
    "                if j >= self.road_length:\n",
    "                    last_indexes = list(range(i+1, self.road_length))\n",
    "                    beg_indexes = list(range(0, j - self.road_length + 1))\n",
    "                    indexes = last_indexes + beg_indexes\n",
    "                    \n",
    "#                     print('next_move{1}, indexes:{2}'.format(velocity, next_move, indexes))\n",
    "                    next_pos = indexes[next_move-1]\n",
    "                else:\n",
    "                    next_pos = j\n",
    "\n",
    "                new_state[next_pos] =  next_move\n",
    "                \n",
    "        self.current_state = new_state\n",
    "#             '''\n",
    "#                 [-1,-1,-1,2,-1]\n",
    "#                 for 2, i = 3; len=5, j=6\n",
    "#                     1st indexes: range(4, 4) = [4]\n",
    "#                     2nd indexes: range(0,1) = [0]\n",
    "#                     indexes: [4, 0]\n",
    "                    \n",
    "#                     next_move = 2\n",
    "                    \n",
    "#                     next_pos = indexes[next_move - 1] => 0\n",
    "                \n",
    "#                 next_pos = 0\n",
    "#             '''\n",
    "            \n",
    "#             if self.next_state[i] > -1: \n",
    "#                 self.next_state[int(i+int(self.next_state[i]))] = int(self.next_state[i]) # advance\n",
    "                \n",
    "    def display(self):\n",
    "        print(''.join('.' if x == -1 else str(x) for x in self.next_state))"
   ]
  },
  {
   "cell_type": "code",
   "execution_count": 71,
   "metadata": {},
   "outputs": [],
   "source": [
    "traffic_sim = TrafficSimulation(road_length=100,\n",
    "                                traffic_density=0.2,\n",
    "                                max_velocity=5,\n",
    "                                p_of_slowing_down=0.01)\n",
    "\n",
    "traffic_sim.populate_cars()"
   ]
  },
  {
   "cell_type": "code",
   "execution_count": 72,
   "metadata": {},
   "outputs": [
    {
     "data": {
      "text/plain": [
       "array([ 1, -1, -1, -1, -1, -1, -1, -1, -1, -1, -1, -1, -1, -1, -1, -1, -1,\n",
       "       -1, -1, -1,  3, -1, -1, -1, -1, -1, -1, -1, -1, -1, -1, -1, -1, -1,\n",
       "       -1, -1, -1, -1, -1, -1,  5, -1, -1, -1, -1, -1, -1,  5, -1, -1, -1,\n",
       "       -1, -1, -1, -1, -1,  4,  2, -1, -1, -1, -1, -1,  3, -1, -1,  1,  4,\n",
       "       -1,  4,  2,  2, -1, -1, -1, -1, -1, -1,  3, -1, -1, -1,  1, -1, -1,\n",
       "        4, -1,  3, -1, -1, -1, -1, -1, -1, -1, -1, -1,  1, -1, -1])"
      ]
     },
     "execution_count": 72,
     "metadata": {},
     "output_type": "execute_result"
    }
   ],
   "source": [
    "traffic_sim.current_state"
   ]
  },
  {
   "cell_type": "code",
   "execution_count": 74,
   "metadata": {},
   "outputs": [
    {
     "name": "stdout",
     "output_type": "stream",
     "text": [
      "2...................4...................5......5........03.....2..01.003......3...2..1.4.........2..\n",
      "..3.....................5....................5......3...1...4....01.001...4......2..1.2....5.......2\n",
      ".3...4.......................5....................4....1.2......01.001.2......4....1.2..3.......4...\n",
      "3...4....5........................5...................1.2..3....1.001.2..3........1.2..3...4........\n",
      "...4....5.....5........................5...............2..3...2..001.2..3...4......2..3...4....5....\n",
      "5......5.....5.....5........................5............3...2..001.2..3...4....4....3...4....5.....\n",
      ".....5......5.....5.....5........................5..........2..001.2..3...4....4....3...4....5.....5\n",
      "....5.....5......5.....5.....5........................5.......001.2..3...4....4....3...4....5.....5.\n",
      "...5.....5.....5......5.....5.....5........................2..01.2..3...4....4....3...4....5.....5..\n",
      "..5.....5.....5.....5......5.....5.....5.....................01.2..3...4....4....3...4....5.....5...\n"
     ]
    }
   ],
   "source": [
    "for i in range(10):\n",
    "    traffic_sim.update()\n",
    "    traffic_sim.display()"
   ]
  }
 ],
 "metadata": {
  "anaconda-cloud": {},
  "kernelspec": {
   "display_name": "Python [CS146]",
   "language": "python",
   "name": "Python [CS146]"
  },
  "language_info": {
   "codemirror_mode": {
    "name": "ipython",
    "version": 3
   },
   "file_extension": ".py",
   "mimetype": "text/x-python",
   "name": "python",
   "nbconvert_exporter": "python",
   "pygments_lexer": "ipython3",
   "version": "3.6.5"
  }
 },
 "nbformat": 4,
 "nbformat_minor": 2
}
