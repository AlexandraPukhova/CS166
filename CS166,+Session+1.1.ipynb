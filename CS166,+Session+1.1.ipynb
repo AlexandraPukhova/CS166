{
 "cells": [
  {
   "cell_type": "code",
   "execution_count": 1,
   "metadata": {
    "collapsed": true
   },
   "outputs": [],
   "source": [
    "import numpy as np\n",
    "import random\n",
    "from random import randint"
   ]
  },
  {
   "cell_type": "code",
   "execution_count": 62,
   "metadata": {},
   "outputs": [],
   "source": [
    "# These are random default parameters\n",
    "# that I will initiate my objects for the Car class with:\n",
    "\n",
    "year = randint(2000, 2010) \n",
    "mileage = randint(1000, 10000)\n",
    "make_list = ['Subaru', 'Porsche', 'Audi', 'Toyota']\n",
    "make = random.choice(make_list)"
   ]
  },
  {
   "cell_type": "code",
   "execution_count": 66,
   "metadata": {
    "collapsed": true
   },
   "outputs": [],
   "source": [
    "class Car():\n",
    "    \n",
    "    def __init__(self, make = make, model = 'Outblack', year = 2010, num_doors = 4, owner = 'Jon', mileage = mileage):\n",
    "        \n",
    "        # Each car has the following attributes:\n",
    "        \n",
    "        self.make = make # brand\n",
    "        self.model = model \n",
    "        self.year = year\n",
    "        self.num_doors = num_doors\n",
    "        self.owner = owner\n",
    "        self.mileage = mileage\n",
    "        \n",
    "    def describe_car(self):\n",
    "        # print 'The owner of ' + self.make + self.model + ' is ' + self.owner\n",
    "        return \"The car mileage is %f\" %  self.mileage\n",
    "        \n",
    "        \n",
    "    def adjust_mileage(self):\n",
    "        self.mileage = self.mileage + np.random.rand()*10"
   ]
  },
  {
   "cell_type": "code",
   "execution_count": 67,
   "metadata": {},
   "outputs": [
    {
     "name": "stdout",
     "output_type": "stream",
     "text": [
      "The car mileage is 3783.360564\n",
      "2010\n",
      "Subaru\n"
     ]
    }
   ],
   "source": [
    "# Trying out the method on a single car\n",
    "\n",
    "my_car = Car()\n",
    "my_car.adjust_mileage()\n",
    "print my_car.describe_car() \n",
    "print my_car.year\n",
    "print my_car.make"
   ]
  },
  {
   "cell_type": "code",
   "execution_count": 61,
   "metadata": {},
   "outputs": [
    {
     "name": "stdout",
     "output_type": "stream",
     "text": [
      "The car mileage is 7386.933864\n",
      "The car mileage is 3501.180435\n",
      "The car mileage is 2605.720968\n",
      "The car mileage is 2611.048589\n",
      "Audi\n",
      "Audi\n",
      "Porsche\n",
      "Porsche\n",
      "2000\n",
      "2003\n",
      "2008\n",
      "2000\n"
     ]
    }
   ],
   "source": [
    "# Creating multiple objects\n",
    "\n",
    "cars = [Car() for x in range(0,4)]\n",
    "\n",
    "set_mileage = [randint(1000, 10000) for x in range(4)]\n",
    "\n",
    "# Since I could not initialize each object with a different random attribute,\n",
    "# I am changing the mileage, the brand and the model of each object manually\n",
    "# using random generators and printing the output \n",
    "\n",
    "for car in cars:\n",
    "    car.mileage = random.choice(set_mileage)\n",
    "    car.adjust_mileage()\n",
    "    car.describe_car()\n",
    "\n",
    "for car in cars:\n",
    "    car.make = random.choice(make_list)\n",
    "    print car.make\n",
    "\n",
    "for car in cars:\n",
    "    car.year = random.choice(year)\n",
    "    print car.year"
   ]
  }
 ],
 "metadata": {
  "anaconda-cloud": {},
  "kernelspec": {
   "display_name": "Python [anaconda]",
   "language": "python",
   "name": "Python [anaconda]"
  },
  "language_info": {
   "codemirror_mode": {
    "name": "ipython",
    "version": 2
   },
   "file_extension": ".py",
   "mimetype": "text/x-python",
   "name": "python",
   "nbconvert_exporter": "python",
   "pygments_lexer": "ipython2",
   "version": "2.7.15"
  }
 },
 "nbformat": 4,
 "nbformat_minor": 2
}
