{
 "cells": [
  {
   "cell_type": "code",
   "execution_count": 1,
   "metadata": {},
   "outputs": [
    {
     "name": "stdout",
     "output_type": "stream",
     "text": [
      "Initial state:\n",
      "[[ 1  2  3  4]\n",
      " [ 5  6  7  8]\n",
      " [ 9 10 11 12]\n",
      " [13 14 15 16]]\n",
      "Shift by -1\n",
      "[[ 2  3  4  1]\n",
      " [ 6  7  8  5]\n",
      " [10 11 12  9]\n",
      " [14 15 16 13]]\n",
      "Shift by 0\n",
      "[[ 1  2  3  4]\n",
      " [ 5  6  7  8]\n",
      " [ 9 10 11 12]\n",
      " [13 14 15 16]]\n",
      "Shift by 1\n",
      "[[ 4  1  2  3]\n",
      " [ 8  5  6  7]\n",
      " [12  9 10 11]\n",
      " [16 13 14 15]]\n"
     ]
    }
   ],
   "source": [
    "# Study Guide Code\n",
    "\n",
    "import numpy as np\n",
    "state = np.array([\n",
    "[1, 2, 3, 4],\n",
    "[5, 6, 7, 8],\n",
    "[9, 10, 11, 12],\n",
    "[13, 14, 15, 16]])\n",
    "print('Initial state:')\n",
    "print(state)\n",
    "for dx in range(-1, 2):\n",
    "    print('Shift by', dx)\n",
    "    print(np.roll(state, shift=dx, axis=1))"
   ]
  },
  {
   "cell_type": "code",
   "execution_count": 2,
   "metadata": {},
   "outputs": [],
   "source": [
    "import matplotlib\n",
    "matplotlib.use('TkAgg')\n",
    "from pylab import *\n",
    "\n",
    "n = 100 # size of space: n x n\n",
    "\n",
    "global p # will make p intractive; see interactive_p function\n",
    "p = 0.1 # probability of initially panicky individuals\n",
    "\n",
    "def initialize():\n",
    "    \n",
    "    global config, nextconfig, density_lst # addded to global vars\n",
    "    config = zeros([n, n])\n",
    "    \n",
    "    density_lst = [] # added a list for keeping track of density\n",
    "    \n",
    "    for x in range(n):\n",
    "        for y in range(n):\n",
    "            config[x, y] = 1 if random() < p else 0\n",
    "    nextconfig = zeros([n, n])\n",
    "    \n",
    "def observe():\n",
    "    global config, nextconfig, density_count # addded to global vars\n",
    "    \n",
    "    density_count = 0 \n",
    "    \n",
    "    for x in range(n): # looping to caclulate the density\n",
    "        for y in range(n):\n",
    "            density_count += config[(x) % n, (y) % n]\n",
    "    \n",
    "    cla()\n",
    "    \n",
    "    density_lst.append(density_count/(n*n)) # appending values\n",
    "    \n",
    "    subplot(1,2,1)\n",
    "    imshow(config, vmin = 0, vmax = 1, cmap = cm.binary)\n",
    "    \n",
    "    subplot(1,2,2)\n",
    "    plot(range(len(density_lst)), density_lst) # adding the time vs density plot\n",
    "    \n",
    "\n",
    "def update():\n",
    "    global config, nextconfig\n",
    "    for x in range(n):\n",
    "        for y in range(n):\n",
    "            count = 0\n",
    "            for dx in [-1, 0, 1]:\n",
    "                for dy in [-1, 0, 1]:\n",
    "                    count += config[(x + dx) % n, (y + dy) % n]\n",
    "#             nextconfig[x, y] = 1 if count >= 4 else 0 # old Panic CA config\n",
    "            \n",
    "            nextconfig[x ,y] = 1 if (count == 3 or count == 2) else 0 # new rules\n",
    "            \n",
    "    config, nextconfig = nextconfig, config\n",
    "    \n",
    "def interactive_p(val = p): # adding an interactive p parameter\n",
    "    global p\n",
    "    p = float(val)\n",
    "    return val\n",
    "\n",
    "import pycxsimulator\n",
    "pycxsimulator.GUI(parameterSetters=[interactive_p]).start(func=[initialize, observe, update])"
   ]
  },
  {
   "cell_type": "markdown",
   "metadata": {},
   "source": [
    "**Game of Life Rules**\n",
    "\n",
    "* Any live cell with fewer than two live neighbors dies, as if by underpopulation.\n",
    "* Any live cell with two or three live neighbors lives on to the next generation.\n",
    "* Any live cell with more than three live neighbors dies, as if by overpopulation.\n",
    "* Any dead cell with exactly three live neighbors becomes a live cell, as if by reproduction."
   ]
  },
  {
   "cell_type": "markdown",
   "metadata": {},
   "source": [
    "**CA: 'p' parameter variations**\n",
    "\n",
    "The phase transition for the Panic CA, i.e. the whole space getting filled with panic, happens around the intial density parameter of 0.4, around 0.5 the transition happens even a few seconds earlier. "
   ]
  }
 ],
 "metadata": {
  "kernelspec": {
   "display_name": "Python [CS146]",
   "language": "python",
   "name": "Python [CS146]"
  },
  "language_info": {
   "codemirror_mode": {
    "name": "ipython",
    "version": 3
   },
   "file_extension": ".py",
   "mimetype": "text/x-python",
   "name": "python",
   "nbconvert_exporter": "python",
   "pygments_lexer": "ipython3",
   "version": "3.6.5"
  }
 },
 "nbformat": 4,
 "nbformat_minor": 2
}
