{
 "cells": [
  {
   "cell_type": "code",
   "execution_count": 1,
   "metadata": {
    "collapsed": true
   },
   "outputs": [],
   "source": [
    "import numpy as np\n",
    "import matplotlib.pyplot as plt\n",
    "from matplotlib import colors\n",
    "import random \n",
    "from random import randint"
   ]
  },
  {
   "cell_type": "code",
   "execution_count": 2,
   "metadata": {
    "collapsed": true
   },
   "outputs": [],
   "source": [
    "class Room(object):\n",
    "    \n",
    "    def __init__(self, width=10, length=10, num_items=3, random_switch=0.1, verbose=False):\n",
    "        '''\n",
    "        Inputs:\n",
    "\n",
    "            length (int) The length of the room. Corresponds to the number of\n",
    "              arrays in the nested array, used to model the room. Default: 10.\n",
    "              \n",
    "            width (int) The width of the room. Corresponds to the number of\n",
    "              elements in each array of the nested array, used to model the room.\n",
    "              Default: 10.\n",
    "            \n",
    "            num_items (int) The number of furniture items in the room. Default: 3.\n",
    "            \n",
    "            random_switch (float) The fraction of time when robot, following the\n",
    "              straight walk strategy will make a random direction switch. Default: 0.1.\n",
    "              \n",
    "            verbose (bool) If set True, configurations of failed attemps to set up\n",
    "              the room are printed. Default: False.\n",
    "        '''\n",
    "        \n",
    "        self.length = length\n",
    "        self.width = width\n",
    "        self.num_tiles = width*length\n",
    "        self.num_items = num_items\n",
    "        self.random_switch = random_switch\n",
    "        self.verbose = verbose\n",
    "        \n",
    "        # Initialize a room with various levels of dust\n",
    "        self.room = np.random.random(size=(self.length, self.width))\n",
    "        \n",
    "        # Step/efficiency trackers \n",
    "        self.steps = 0\n",
    "        self.clean = 0\n",
    "\n",
    "    def room_setup(self):\n",
    "        '''Sets up the room.'''\n",
    "        \n",
    "        if self.num_items > self.num_tiles-1: # Leaving one spot for Roomba\n",
    "            raise Exception('The room if full!')\n",
    "        \n",
    "        # Set the objects\n",
    "        for _ in range(self.num_items): \n",
    "            x = randint(0,self.length-1)\n",
    "            y = randint(0,self.width-1)\n",
    "            \n",
    "            while (self.room[x,y] == 2):\n",
    "                x = randint(0,self.length-1)\n",
    "                y = randint(0,self.width-1)\n",
    "            self.room[x,y] = 2\n",
    "        \n",
    "        self.robot = Robot(room=self) # Creating a Robot attribute, an object of class Robot\n",
    "        self.set_roomba()\n",
    "        temp = self.next_position(current_position=self.robot.roomba_location)\n",
    "        \n",
    "        # Accounts for cases where Roomba is \"trapped\" in-between furniture items.\n",
    "        if temp is None:\n",
    "            if self.verbose:\n",
    "                print('See below the configuration in which Roomba got stuck. Resetting the room...')\n",
    "                self.show() # Showing configurations in which Roomba got trapped.\n",
    "            self.room = np.random.random(size=(self.length, self.width)) # Resetting the room.\n",
    "            self.room_setup() # Recursively calling the function, until fixed.\n",
    "    \n",
    "    def set_roomba(self):\n",
    "        free = np.where(self.room<2)\n",
    "        spot = randint(0,len(free))\n",
    "        self.room[free[0][spot], free[1][spot]] = 1.5\n",
    "        self.robot.initial_location = [free[0][spot], free[1][spot]] # will never be changed\n",
    "        self.robot.previous_pos = [free[0][spot], free[1][spot]] # will be updated\n",
    "        self.robot.roomba_location = np.where(self.room==1.5)\n",
    "        # in the first iteration, previous_pos = roomba_location\n",
    "\n",
    "    def update_counters(self, next_position):\n",
    "        self.steps += 1\n",
    "        if self.room[next_position] != 0:\n",
    "            self.clean +=1\n",
    "    \n",
    "    def next_position(self, current_position, previous_pos = None):\n",
    "        '''\n",
    "        Determines the next step of the robot randomly by evaluating\n",
    "        cells in the Von Neumann neighborhood. If called\n",
    "        within a straight walk strategy, ensures that the direction \n",
    "        from which Roomba just came is not chosen as the next step.\n",
    "        Only if there is no other valid/possible next step will \n",
    "        it send Roomba back where it came from. \n",
    "        \n",
    "        '''\n",
    "        i, x = current_position\n",
    "\n",
    "        # Generate four adjacent tiles\n",
    "        # This if only executes in the straight_walk strategy\n",
    "        if previous_pos:\n",
    "            options = [[i,x+1], [i,x-1], [i+1,x], [i-1,x]] # generate all options\n",
    "            options.remove(list(previous_pos)) # exclude previous position\n",
    "            random.shuffle(options) # shuffle options\n",
    "            \n",
    "            # append previous position (will be tried if all other fail)\n",
    "            options.append(list(previous_pos))\n",
    "            \n",
    "        else:\n",
    "            options = [[i,x+1], [i,x-1], [i+1,x], [i-1,x]]\n",
    "            random.shuffle(options)\n",
    "\n",
    "        # Check whether adjancent tile is a valid move.\n",
    "        for option in options:\n",
    "            try:\n",
    "                if self.room[option] == 2:\n",
    "                    continue\n",
    "                if (option[0]==-1 or option[0]==self.length) or (option[1]==-1 or option[1]==self.width):\n",
    "                    continue  \n",
    "                return option\n",
    "            except IndexError:\n",
    "                pass  # try next\n",
    "            \n",
    "    def random_walk(self):\n",
    "        '''\n",
    "        This function enables Roomba to execute a random walk.\n",
    "        '''\n",
    "        \n",
    "        current_position = self.robot.roomba_location # [i,x]\n",
    "        next_position = self.next_position(current_position=current_position)\n",
    "        \n",
    "        try:\n",
    "            self.update_counters(next_position)\n",
    "        except ValueError:\n",
    "            print(self.robot.roomba_location, current_position, next_position)\n",
    "            self.show()\n",
    "            raise Exception('The roomba is mad!!!1')\n",
    "        \n",
    "        self.room[next_position] = 1.5\n",
    "        self.room[current_position] = 0\n",
    "        self.robot.roomba_location = next_position\n",
    "    \n",
    "    def straight_pos(self, prev_pos, current_pos):\n",
    "        '''Determines the next step of the robot that would ensure\n",
    "        its straight walk behavior. The memory propoerty of the robot\n",
    "        enables such behavior. Once it faces an obstacle, the robot\n",
    "        changes the direction randomly. It only bounces back in the same\n",
    "        direction it came back from if the rest of the options are invalid,\n",
    "        e.g. when it is trapped in a \"pocket\" between\n",
    "        two walls and an obstacle.'''\n",
    "        \n",
    "        m, n = prev_pos\n",
    "        i, x = current_pos\n",
    "        next_pos = 0\n",
    "        \n",
    "        if m==i: # stayed in the same row\n",
    "            if x==n-1: # came from the right\n",
    "                next_pos = [i,x-1]\n",
    "            else: # came from the left\n",
    "                next_pos = [i,x+1]\n",
    "        else: # switched rows\n",
    "            if i==m+1: # came from above\n",
    "                next_pos = [i+1,x]\n",
    "            else: # came from below\n",
    "                next_pos = [i-1,x]\n",
    "        \n",
    "        # Check the validity of the next_position.\n",
    "        # If not valid, pick the next position randomly.\n",
    "        try:\n",
    "            if self.room[next_pos] == 2:  # obstacle\n",
    "                return self.next_position(current_pos, prev_pos) # returns the next step, chosen randomly\n",
    "            elif (next_pos[0]==-1 or next_pos[1]==-1):\n",
    "                return self.next_position(current_pos, prev_pos) # returns the next step, chosen randomly\n",
    "            else:\n",
    "                return next_pos\n",
    "        except IndexError:\n",
    "            return self.next_position(current_pos, prev_pos) # if out of bounds, return random next position \n",
    "    \n",
    "    def straight_walk(self):       \n",
    "        '''\n",
    "        This function enables Roomba to execute a straight walk.\n",
    "        To prevent Roomba from falling into a wall-following pattern,\n",
    "        the straight walk step is replaced with a random walk step\n",
    "        a certain percentage of the time. By default, the switch\n",
    "        happens 10% of the time.\n",
    "        '''\n",
    "\n",
    "        prev_pos = self.robot.previous_pos\n",
    "        self.robot.previous_pos = self.robot.roomba_location\n",
    "        \n",
    "        # Random change of direction to avoid exclusively wall-following behavior.\n",
    "        if random.uniform(0, 1) > self.random_switch: \n",
    "            next_position = self.straight_pos(prev_pos, self.robot.roomba_location) # gives the next position to go straight\n",
    "        else: \n",
    "            next_position = self.next_position(self.robot.roomba_location, prev_pos)\n",
    "        \n",
    "        self.update_counters(next_position)\n",
    "        self.room[next_position] = 1.5\n",
    "        self.room[self.robot.roomba_location] = 0\n",
    "        self.robot.roomba_location = next_position\n",
    "        \n",
    "    def pick_direction(self): # pick direction + move 1 step \n",
    "        next_position = self.next_position(self.robot.roomba_location)\n",
    "        self.robot.previous_pos = self.robot.roomba_location\n",
    "        self.update_counters(next_position)\n",
    "        self.room[self.robot.roomba_location] = 0\n",
    "        self.room[next_position] = 1.5\n",
    "        self.robot.roomba_location = next_position \n",
    "    \n",
    "    def show(self):\n",
    "        plt.imshow(self.room, cmap='YlOrBr', vmin=0, vmax=2)\n",
    "        return plt.show()"
   ]
  },
  {
   "cell_type": "code",
   "execution_count": null,
   "metadata": {
    "collapsed": true
   },
   "outputs": [],
   "source": [
    "class Robot(object):\n",
    "    \n",
    "    def __init__(self, room=None):\n",
    "        '''\n",
    "        Inputs:\n",
    "\n",
    "            room (object) The object of class Room that will enable \n",
    "               the update of internal memory of the Robot class object.\n",
    "               Default: None.\n",
    "              \n",
    "        '''\n",
    "        self.roomba_location = np.where(room.room==1.5)\n",
    "        self.initial_location = 0\n",
    "        self.previous_pos = 0\n",
    "        room.robot = self"
   ]
  },
  {
   "cell_type": "markdown",
   "metadata": {},
   "source": [
    "## Analysis & Visualization"
   ]
  },
  {
   "cell_type": "markdown",
   "metadata": {},
   "source": [
    "In the visualization, the obstacles are dark brown and Roomba is light-brown/red. The dust is of different shades of orange, representing various levels of dirtiness. "
   ]
  },
  {
   "cell_type": "code",
   "execution_count": 4,
   "metadata": {},
   "outputs": [
    {
     "name": "stdout",
     "output_type": "stream",
     "text": [
      "Image of the original room set-up:\n"
     ]
    },
    {
     "data": {
      "image/png": "[encoded data removed]",
      "text/plain": [
       "<Figure size 432x288 with 1 Axes>"
      ]
     },
     "metadata": {},
     "output_type": "display_data"
    },
    {
     "name": "stdout",
     "output_type": "stream",
     "text": [
      "Image after picked the intial direction and took the 1st step:\n"
     ]
    },
    {
     "data": {
      "image/png": "[encoded data removed]",
      "text/plain": [
       "<Figure size 432x288 with 1 Axes>"
      ]
     },
     "metadata": {},
     "output_type": "display_data"
    },
    {
     "name": "stdout",
     "output_type": "stream",
     "text": [
      "Image after a straight walk step: 1 , overall step: 2\n"
     ]
    },
    {
     "data": {
      "image/png": "[encoded data removed]",
      "text/plain": [
       "<Figure size 432x288 with 1 Axes>"
      ]
     },
     "metadata": {},
     "output_type": "display_data"
    },
    {
     "name": "stdout",
     "output_type": "stream",
     "text": [
      "Image after a straight walk step: 2 , overall step: 3\n"
     ]
    },
    {
     "data": {
      "image/png": "[encoded data removed]",
      "text/plain": [
       "<Figure size 432x288 with 1 Axes>"
      ]
     },
     "metadata": {},
     "output_type": "display_data"
    },
    {
     "name": "stdout",
     "output_type": "stream",
     "text": [
      "Image after a straight walk step: 3 , overall step: 4\n"
     ]
    },
    {
     "data": {
      "image/png": "[encoded data removed]",
      "text/plain": [
       "<Figure size 432x288 with 1 Axes>"
      ]
     },
     "metadata": {},
     "output_type": "display_data"
    }
   ],
   "source": [
    "# Setting random seeds to fix room configurations;\n",
    "# used for debugging. \n",
    "\n",
    "# np.random.seed(205)\n",
    "# random.seed(205)\n",
    "\n",
    "r_tester = Room(width=5, length=5, random_switch=0.1)\n",
    "r_tester.room_setup() \n",
    "print('Image of the original room set-up:')\n",
    "r_tester.show()\n",
    "\n",
    "r_tester.pick_direction()\n",
    "print('Image after picked the intial direction and took the 1st step:')\n",
    "r_tester.show()\n",
    "    \n",
    "for i in range(3):\n",
    "    r_tester.straight_walk()\n",
    "    print('Image after a straight walk step:', i+1, ', overall step:', i+2 )\n",
    "    r_tester.show()"
   ]
  },
  {
   "cell_type": "markdown",
   "metadata": {},
   "source": [
    "## Monte Carlo Simulation"
   ]
  },
  {
   "cell_type": "markdown",
   "metadata": {},
   "source": [
    "### Straight Walk: Optimal Switch Percentage"
   ]
  },
  {
   "cell_type": "code",
   "execution_count": 46,
   "metadata": {},
   "outputs": [],
   "source": [
    "percentages = np.arange(0.1, 1.1, 0.1)\n",
    "\n",
    "all_counts = []\n",
    "count = []\n",
    "\n",
    "for percentage in percentages:\n",
    "    for i in range(1000):\n",
    "        r = Room(width=10, length=10, random_switch = percentage)\n",
    "        r.room_setup()\n",
    "        \n",
    "        r.pick_direction()\n",
    "        while r.clean/(r.num_tiles-r.num_items-1) <= 0.95:\n",
    "            r.straight_walk()\n",
    "        count.append((1-r.clean/r.steps))\n",
    "    all_counts.append(np.mean(count))"
   ]
  },
  {
   "cell_type": "code",
   "execution_count": 128,
   "metadata": {
    "scrolled": false
   },
   "outputs": [
    {
     "data": {
      "image/png": "[encoded data removed]",
      "text/plain": [
       "<Figure size 576x360 with 1 Axes>"
      ]
     },
     "metadata": {},
     "output_type": "display_data"
    },
    {
     "name": "stdout",
     "output_type": "stream",
     "text": [
      "Minimum number of wasteful steps is achieved with the probability of direction switch equal to:  0.8\n"
     ]
    }
   ],
   "source": [
    "plt.figure(figsize=(8, 5))\n",
    "plt.scatter(percentages,all_counts)\n",
    "plt.title('Straight walk: Percentage of wasteful/repetitive steps as a function random switch probability.')\n",
    "plt.xlabel('Probabilities of switch (round tenths decimals)')\n",
    "plt.show()\n",
    "\n",
    "ind = np.where(all_counts == np.min(all_counts))\n",
    "optimal_p_switch = float(percentages[ind])\n",
    "print('Minimum number of wasteful steps is achieved with the probability of direction switch equal to: ',\n",
    "      optimal_p_switch)"
   ]
  },
  {
   "cell_type": "markdown",
   "metadata": {},
   "source": [
    "### Efficiency Measure 1: Time  "
   ]
  },
  {
   "cell_type": "code",
   "execution_count": 92,
   "metadata": {},
   "outputs": [],
   "source": [
    "count_steps_rand = []\n",
    "\n",
    "for x in range(1000):\n",
    "    r = Room(width=10, length=10, verbose=True)\n",
    "    r.room_setup()\n",
    "    \n",
    "    while r.clean/(r.num_tiles-r.num_items-1) <= 0.95:\n",
    "        r.random_walk()\n",
    "    count_steps_rand.append(r.steps)"
   ]
  },
  {
   "cell_type": "code",
   "execution_count": 120,
   "metadata": {
    "collapsed": true
   },
   "outputs": [],
   "source": [
    "count_steps_straight = []\n",
    "\n",
    "for x in range(1000):\n",
    "    r = Room(width=10, length=10, random_switch=optimal_p_switch, verbose=True)\n",
    "    r.room_setup()\n",
    "    \n",
    "    r.pick_direction()\n",
    "    while r.clean/(r.num_tiles-r.num_items-1) <= 0.95:\n",
    "        r.straight_walk()\n",
    "    count_steps_straight.append(r.steps)"
   ]
  },
  {
   "cell_type": "code",
   "execution_count": 142,
   "metadata": {},
   "outputs": [
    {
     "data": {
      "image/png": "[encoded data removed]",
      "text/plain": [
       "<Figure size 576x432 with 1 Axes>"
      ]
     },
     "metadata": {},
     "output_type": "display_data"
    },
    {
     "name": "stdout",
     "output_type": "stream",
     "text": [
      "Average number of steps for Random Walk 802.492\n",
      "Average number of steps for Straight Walk 353.51\n"
     ]
    }
   ],
   "source": [
    "plt.figure(figsize=(8, 6))\n",
    "plt.hist(count_steps_rand, bins=50, label='Random walk')\n",
    "plt.hist(count_steps_straight, bins=50, label='Straight walk')\n",
    "plt.title('Number of steps required to clean 95% of the 10-by-10 room.')\n",
    "plt.xlabel('Total number of steps')\n",
    "plt.legend()\n",
    "plt.show()\n",
    "\n",
    "print('Average number of steps for Random Walk', np.mean(count_steps_rand))\n",
    "print('Average number of steps for Straight Walk', np.mean(count_steps_straight))"
   ]
  },
  {
   "cell_type": "code",
   "execution_count": 141,
   "metadata": {},
   "outputs": [
    {
     "name": "stdout",
     "output_type": "stream",
     "text": [
      "CI for the mean of the random walk is:  [783.01, 821.97]\n",
      "CI for the mean of the straight walk is:  [347.47, 359.55]\n"
     ]
    }
   ],
   "source": [
    "# CI for the mean\n",
    "\n",
    "# Random walk\n",
    "standard_error_rand = np.std(count_steps_rand)/np.sqrt(len(count_steps_rand))\n",
    "lb_rand = np.mean(count_steps_rand)-1.96*standard_error_rand\n",
    "ub_rand = np.mean(count_steps_rand)+1.96*standard_error_rand\n",
    "\n",
    "# Straight walk\n",
    "standard_error_straight = np.std(count_steps_straight)/np.sqrt(len(count_steps_straight))\n",
    "lb_straight = np.mean(count_steps_straight)-1.96*standard_error_straight\n",
    "ub_straight = np.mean(count_steps_straight)+1.96*standard_error_straight\n",
    "\n",
    "print('CI for the mean of the random walk is: ', [np.around(lb_rand,2), np.around(ub_rand,2)])\n",
    "print('CI for the mean of the straight walk is: ', [np.around(lb_straight,2), np.around(ub_straight,2)])"
   ]
  },
  {
   "cell_type": "markdown",
   "metadata": {},
   "source": [
    "### Efficiency Measure 2: Wasteful Steps"
   ]
  },
  {
   "cell_type": "code",
   "execution_count": 97,
   "metadata": {},
   "outputs": [],
   "source": [
    "count_wasteful_rand = []\n",
    "\n",
    "for x in range(1000):\n",
    "    r = Room(width=10, length=10)\n",
    "    r.room_setup()\n",
    "    \n",
    "    while r.clean/(r.num_tiles-r.num_items-1) <= 0.95:\n",
    "        r.random_walk()\n",
    "    count_wasteful_rand.append((1-r.clean/r.steps))"
   ]
  },
  {
   "cell_type": "code",
   "execution_count": 122,
   "metadata": {
    "collapsed": true
   },
   "outputs": [],
   "source": [
    "count_wasteful_straight = []\n",
    "\n",
    "for x in range(1000):\n",
    "    r = Room(width=10, length=10, random_switch=optimal_p_switch)\n",
    "    r.room_setup()\n",
    "    \n",
    "    r.pick_direction()\n",
    "    while r.clean/(r.num_tiles-4) <= 0.95:\n",
    "        r.straight_walk()\n",
    "    count_wasteful_straight.append((1-r.clean/r.steps))"
   ]
  },
  {
   "cell_type": "code",
   "execution_count": 130,
   "metadata": {},
   "outputs": [
    {
     "data": {
      "image/png": "[encoded data removed]",
      "text/plain": [
       "<Figure size 576x432 with 1 Axes>"
      ]
     },
     "metadata": {},
     "output_type": "display_data"
    },
    {
     "name": "stdout",
     "output_type": "stream",
     "text": [
      "Average for Random Walk 0.872078155504198\n",
      "Average for Straight Walk 0.7261578559169584\n"
     ]
    }
   ],
   "source": [
    "plt.figure(figsize=(8, 6))\n",
    "plt.hist(count_wasteful_rand, bins=50, label='Random walk')\n",
    "plt.hist(count_wasteful_straight, bins=50, label='Straight walk')\n",
    "plt.title('Distribution of wasteful/repetitive steps as a % of total step count.')\n",
    "plt.xlabel('Total number of wasteful steps')\n",
    "plt.legend()\n",
    "plt.show()\n",
    "\n",
    "print('Average for Random Walk', np.mean(count_wasteful_rand))\n",
    "print('Average for Straight Walk', np.mean(count_wasteful_straight))"
   ]
  },
  {
   "cell_type": "code",
   "execution_count": 144,
   "metadata": {},
   "outputs": [
    {
     "name": "stdout",
     "output_type": "stream",
     "text": [
      "CI for the mean of the random walk is:  [0.869, 0.875]\n",
      "CI for the mean of the straight walk is:  [0.722, 0.731]\n"
     ]
    }
   ],
   "source": [
    "# CI for the mean\n",
    "\n",
    "# Random walk\n",
    "standard_error_rand_wasteful = np.std(count_wasteful_rand)/np.sqrt(len(count_wasteful_rand))\n",
    "lb_rand_wasteful = np.mean(count_wasteful_rand)-1.96*standard_error_rand_wasteful\n",
    "ub_rand_wasteful = np.mean(count_wasteful_rand)+1.96*standard_error_rand_wasteful\n",
    "\n",
    "# Straight walk\n",
    "standard_error_straight_wasteful = np.std(count_wasteful_straight)/np.sqrt(len(count_wasteful_straight))\n",
    "lb_straight_wasteful = np.mean(count_wasteful_straight)-1.96*standard_error_straight_wasteful\n",
    "ub_straight_wasteful = np.mean(count_wasteful_straight)+1.96*standard_error_straight_wasteful\n",
    "\n",
    "print('CI for the mean of the random walk is: ', [np.around(lb_rand_wasteful,3), np.around(ub_rand_wasteful,3)])\n",
    "print('CI for the mean of the straight walk is: ', [np.around(lb_straight_wasteful,3), np.around(ub_straight_wasteful,3)])"
   ]
  },
  {
   "cell_type": "markdown",
   "metadata": {},
   "source": [
    "### Optimal number of items in the room"
   ]
  },
  {
   "cell_type": "code",
   "execution_count": 109,
   "metadata": {},
   "outputs": [],
   "source": [
    "items_count_rand = []\n",
    "items_all_counts_rand= []\n",
    "nums_of_items = [0,1,2,3,4,5,6]\n",
    "\n",
    "for num_items in nums_of_items:\n",
    "    for x in range(1000):\n",
    "        r = Room(width=10, length=10, num_items=num_items)\n",
    "        r.room_setup()\n",
    "\n",
    "        while r.clean/(r.num_tiles-r.num_items-1) <= 0.70:\n",
    "            r.random_walk()\n",
    "        items_count_rand.append((1-r.clean/r.steps))\n",
    "    items_all_counts_rand.append(np.mean(items_count_rand)) "
   ]
  },
  {
   "cell_type": "code",
   "execution_count": 125,
   "metadata": {},
   "outputs": [],
   "source": [
    "items_count_straight = []\n",
    "items_all_counts_straight= []\n",
    "nums_of_items = [0,1,2,3,4,5,6]\n",
    "\n",
    "for num_items in nums_of_items:\n",
    "    for x in range(1000):\n",
    "        r = Room(width=10, length=10, num_items=num_items, random_switch=optimal_p_switch)\n",
    "        r.room_setup()\n",
    "        \n",
    "        r.pick_direction()\n",
    "        while r.clean/(r.num_tiles-r.num_items-1) <= 0.70:\n",
    "            \n",
    "            r.straight_walk()\n",
    "    #     count_straight.append(r.steps)\n",
    "        items_count_straight.append((1-r.clean/r.steps))\n",
    "    items_all_counts_straight.append(np.mean(items_count_straight))"
   ]
  },
  {
   "cell_type": "code",
   "execution_count": 137,
   "metadata": {},
   "outputs": [
    {
     "data": {
      "image/png": "[encoded data removed]",
      "text/plain": [
       "<Figure size 576x288 with 1 Axes>"
      ]
     },
     "metadata": {},
     "output_type": "display_data"
    }
   ],
   "source": [
    "plt.figure(figsize=(8, 4))\n",
    "plt.title('Percentage of wasteful steps as a function the number of items (10-by-10 room).')\n",
    "\n",
    "plt.scatter(nums_of_items,items_all_counts_rand,label='Random walk')\n",
    "plt.scatter(nums_of_items,items_all_counts_straight,label='Straight walk', c='r')\n",
    "plt.xlabel('Number of items in the room')\n",
    "plt.ylabel('Percentage of wasteful steps taken')\n",
    "plt.ylim(0.45,0.8)\n",
    "plt.legend()\n",
    "plt.show()"
   ]
  },
  {
   "cell_type": "markdown",
   "metadata": {},
   "source": [
    "## Animation"
   ]
  },
  {
   "cell_type": "markdown",
   "metadata": {},
   "source": [
    "This animation is set to display the results of a straight walk strategy."
   ]
  },
  {
   "cell_type": "code",
   "execution_count": 147,
   "metadata": {
    "collapsed": true
   },
   "outputs": [],
   "source": [
    "# Taken from class 12.1 for animation\n",
    "\n",
    "def make_animation(draw_function, frames, interval, filename=None,\n",
    "                   verbose=False, figure_params=None):\n",
    "    \"\"\"\n",
    "    Write an animated GIF to file using matplotlib and ImageMagick.\n",
    "\n",
    "    Inputs:\n",
    "\n",
    "        draw_function (callable) The function to call, once per frame,\n",
    "          to render to the current matplotlib figure. This function's call\n",
    "          signature must be\n",
    "\n",
    "            draw_function(current_frame_number, total_frame_count)\n",
    "\n",
    "          The first frame is 0 and the last frame is total_frame_count-1.\n",
    "\n",
    "        frames (int) The number of frames to generate.\n",
    "\n",
    "        interval (float) The number of milliseconds to wait between frames\n",
    "          in the animation. Set this to 40 for a fairly standard frame rate\n",
    "          of 25fps (1 second / 40 (milliseconds per frame) = 25 frames per\n",
    "          second).\n",
    "\n",
    "        filename (str) The path to the file to write to. If none is provided,\n",
    "          the animation will be written to a random filename, prefixed with\n",
    "          \"animate_\" in the current directory. Default: None.\n",
    "\n",
    "        verbose (bool) Whether to print the current frame number to the\n",
    "          console as the animation is being created. This will clear other\n",
    "          console output. Default: False.\n",
    "\n",
    "        figure_params (dict) The keyword arguments to pass to matplotlib\n",
    "          when creating a new figure for this animation. Use it to set the\n",
    "          figure size and other figure properties. Default: None.\n",
    "\n",
    "    Returns: A display object that will inject HTML for displaying the\n",
    "      animated GIF into the notebook.\n",
    "    \"\"\"\n",
    "    from matplotlib import pyplot, animation\n",
    "    from IPython.display import HTML, display, clear_output\n",
    "    import random\n",
    "\n",
    "    if filename is None:\n",
    "        filename = 'animate_%06i.gif' % random.randint(0, 999999)\n",
    "    # Create figure\n",
    "    if figure_params is None:\n",
    "        figure_params = {}\n",
    "    figure = pyplot.figure(**figure_params)\n",
    "    # Wrap draw_function if we need to print to console\n",
    "    if verbose:\n",
    "        old_draw_function = draw_function\n",
    "        def draw_function(current_frame_number, total_frame_count):\n",
    "            old_draw_function(current_frame_number, total_frame_count)\n",
    "            print('Processed frame', current_frame_number + 1, '/', total_frame_count)\n",
    "            clear_output(wait=True)\n",
    "            if current_frame_number + 1 == total_frame_count:\n",
    "                print('Writing animation to file...')\n",
    "                clear_output(wait=True)\n",
    "    # Generate animation\n",
    "    anim = animation.FuncAnimation(\n",
    "        figure, draw_function, frames=frames, interval=interval,\n",
    "        init_func=lambda: None, fargs=(frames,))\n",
    "    anim.save(filename, writer='imagemagick')\n",
    "    # Close the animation figure so the last frame does not get displayed\n",
    "    # in the notebook.\n",
    "    pyplot.close()\n",
    "    # Return display object for the animated GIF\n",
    "#     return display(HTML('<img src=\"' + filename + '\">'))\n",
    "\n",
    "def gif(frames):\n",
    "    r = Room(width=10, length=10, random_switch=optimal_p_switch)\n",
    "    r.room_setup() # dark brown\n",
    "    r.pick_direction()\n",
    "    r.show()\n",
    "    \n",
    "    def animate(frame, total_frames):\n",
    "        r.straight_walk()\n",
    "        r.show()\n",
    "    animation = make_animation(animate,frames, interval=100000/frames,verbose=True)\n",
    "    return r.show()"
   ]
  },
  {
   "cell_type": "code",
   "execution_count": 149,
   "metadata": {},
   "outputs": [
    {
     "data": {
      "image/png": "[encoded data removed]",
      "text/plain": [
       "<Figure size 432x288 with 1 Axes>"
      ]
     },
     "metadata": {},
     "output_type": "display_data"
    }
   ],
   "source": [
    "gif(frames=150)"
   ]
  }
 ],
 "metadata": {
  "anaconda-cloud": {},
  "kernelspec": {
   "display_name": "Python [CS146]",
   "language": "python",
   "name": "Python [CS146]"
  },
  "language_info": {
   "codemirror_mode": {
    "name": "ipython",
    "version": 3
   },
   "file_extension": ".py",
   "mimetype": "text/x-python",
   "name": "python",
   "nbconvert_exporter": "python",
   "pygments_lexer": "ipython3",
   "version": "3.6.5"
  }
 },
 "nbformat": 4,
 "nbformat_minor": 2
}
