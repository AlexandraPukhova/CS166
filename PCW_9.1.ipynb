{
 "cells": [
  {
   "cell_type": "markdown",
   "metadata": {},
   "source": [
    "**Part I**"
   ]
  },
  {
   "cell_type": "code",
   "execution_count": null,
   "metadata": {},
   "outputs": [],
   "source": [
    "import matplotlib\n",
    "matplotlib.use('TkAgg')\n",
    "from pylab import *\n",
    "import networkx as nx\n",
    "import random as rd\n",
    "\n",
    "\n",
    "p_i = 0.04 # infection probability\n",
    "p_r = 0.5 # recovery probability\n",
    "\n",
    "\n",
    "def initialize():\n",
    "    global g\n",
    "    g = nx.erdos_renyi_graph(200,0.05)\n",
    "    g.pos = nx.spring_layout(g)\n",
    "    for i in g.nodes:\n",
    "        g.nodes[i]['state'] = 1 if random() < .5 else 0\n",
    "\n",
    "def observe():\n",
    "    global g\n",
    "    cla()\n",
    "    nx.draw(g, vmin = 0, vmax = 1,\n",
    "            node_color = [g.nodes[i]['state'] for i in g.nodes],\n",
    "            pos = g.pos)\n",
    "\n",
    "def update():\n",
    "    global g\n",
    "    a = rd.choice(list(g.nodes))\n",
    "    if g.nodes[a]['state'] == 0: # if susceptible\n",
    "        b = rd.choice(list(g.neighbors(a)))\n",
    "        if g.nodes[b]['state'] == 1: # if neighbor b is infected\n",
    "            g.nodes[a]['state'] = 1 if random() < p_i else 0\n",
    "    else: # if infected\n",
    "        g.nodes[a]['state'] = 0 if random() < p_r else 1\n",
    "        \n",
    "        \n",
    "def update_new():\n",
    "    global g\n",
    "    for a in (list(g.nodes)):\n",
    "        if g.nodes[a]['state'] == 0:\n",
    "            for b in (list(g.neighbors(a))):\n",
    "                if g.nodes[b]['state'] == 1:\n",
    "                    g.nodes[a]['state'] = 1 if random() < p_i else 0\n",
    "        else:\n",
    "             g.nodes[a]['state'] = 0 if random() < p_r else 1\n",
    "        \n",
    "    \n",
    "import pycxsimulator\n",
    "pycxsimulator.GUI().start(func=[initialize, observe, update_new])"
   ]
  },
  {
   "cell_type": "markdown",
   "metadata": {},
   "source": [
    "* n = 100, pe = 0.1, pi = 0.5, pr = 0.5 (pr < (n − 1)pepi)\n",
    "* n = 100, pe = 0.1, pi = 0.04, pr = 0.5 (pr > (n − 1)pepi)\n",
    "* n = 200, pe = 0.1, pi = 0.04, pr = 0.5 (pr < (n − 1)pepi)\n",
    "* n = 200, pe = 0.05, pi = 0.04, pr = 0.5 (pr > (n − 1)pepi)"
   ]
  },
  {
   "cell_type": "markdown",
   "metadata": {},
   "source": [
    "**Part II**"
   ]
  },
  {
   "cell_type": "code",
   "execution_count": 1,
   "metadata": {},
   "outputs": [],
   "source": [
    "from pylab import *\n",
    "import networkx as nx\n",
    "\n",
    "n = 1000\n",
    "k = 40\n",
    "m = 20\n",
    "p = 0.01\n",
    "\n",
    "ws = nx.generators.random_graphs.watts_strogatz_graph(n, k, p)\n",
    "# nx.draw(ws)\n",
    "\n",
    "er = nx.generators.random_graphs.erdos_renyi_graph(n, p=k/n, seed=None, directed=False)\n",
    "# nx.draw(er)\n",
    "\n",
    "ba =  nx.generators.random_graphs.barabasi_albert_graph(n,m)\n",
    "# nx.draw(ba)\n",
    "\n",
    "# show()"
   ]
  },
  {
   "cell_type": "code",
   "execution_count": 2,
   "metadata": {},
   "outputs": [
    {
     "name": "stdout",
     "output_type": "stream",
     "text": [
      "40.0\n",
      "39.548\n",
      "39.2\n"
     ]
    }
   ],
   "source": [
    "import numpy as np\n",
    "\n",
    "print(np.mean([len(list(ws.neighbors(i))) for i in ws]))\n",
    "print(np.mean([len(list(er.neighbors(i))) for i in er]))\n",
    "print(np.mean([len(list(ba.neighbors(i))) for i in ba]))"
   ]
  },
  {
   "cell_type": "markdown",
   "metadata": {},
   "source": [
    "Write code to compute the average degree of each neighbor in the graph. To loop\n",
    "through all neighbors in the graph, loop through all edges and then through each\n",
    "node attached to an edge."
   ]
  },
  {
   "cell_type": "code",
   "execution_count": 3,
   "metadata": {},
   "outputs": [
    {
     "data": {
      "text/plain": [
       "40.0093"
      ]
     },
     "execution_count": 3,
     "metadata": {},
     "output_type": "execute_result"
    }
   ],
   "source": [
    "average = []\n",
    "        \n",
    "for i, j in ws.edges():\n",
    "    average.append(len(list(ws.neighbors(i))))\n",
    "    average.append(len(list(ws.neighbors(j))))\n",
    "    \n",
    "sum(average)/(2*20000)"
   ]
  },
  {
   "cell_type": "code",
   "execution_count": 4,
   "metadata": {},
   "outputs": [
    {
     "data": {
      "text/plain": [
       "40.1153"
      ]
     },
     "execution_count": 4,
     "metadata": {},
     "output_type": "execute_result"
    }
   ],
   "source": [
    "average = []\n",
    "        \n",
    "for i, j in er.edges():\n",
    "    average.append(len(list(er.neighbors(i))))\n",
    "    average.append(len(list(er.neighbors(j))))\n",
    "    \n",
    "sum(average)/(2*20000)"
   ]
  },
  {
   "cell_type": "code",
   "execution_count": 5,
   "metadata": {},
   "outputs": [
    {
     "data": {
      "text/plain": [
       "61.5642"
      ]
     },
     "execution_count": 5,
     "metadata": {},
     "output_type": "execute_result"
    }
   ],
   "source": [
    "average = []\n",
    "        \n",
    "for i, j in ba.edges():\n",
    "    average.append(len(list(ba.neighbors(i))))\n",
    "    average.append(len(list(ba.neighbors(j))))\n",
    "    \n",
    "sum(average)/(2*20000)"
   ]
  }
 ],
 "metadata": {
  "kernelspec": {
   "display_name": "Python [CS146]",
   "language": "python",
   "name": "Python [CS146]"
  },
  "language_info": {
   "codemirror_mode": {
    "name": "ipython",
    "version": 3
   },
   "file_extension": ".py",
   "mimetype": "text/x-python",
   "name": "python",
   "nbconvert_exporter": "python",
   "pygments_lexer": "ipython3",
   "version": "3.6.5"
  }
 },
 "nbformat": 4,
 "nbformat_minor": 2
}
