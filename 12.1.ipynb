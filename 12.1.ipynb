{
 "cells": [
  {
   "cell_type": "code",
   "execution_count": 1,
   "metadata": {
    "collapsed": true
   },
   "outputs": [],
   "source": [
    "import numpy as np\n",
    "from scipy import stats\n",
    "import matplotlib.pyplot as plt"
   ]
  },
  {
   "cell_type": "code",
   "execution_count": 2,
   "metadata": {
    "collapsed": true
   },
   "outputs": [],
   "source": [
    "import random as rd"
   ]
  },
  {
   "cell_type": "code",
   "execution_count": 3,
   "metadata": {
    "collapsed": true
   },
   "outputs": [],
   "source": [
    "def f(x):\n",
    "    Z = 24.44321494051954\n",
    "    if abs(x) > 7:\n",
    "        return 0\n",
    "    elif abs(x) > 3:\n",
    "        return 3 * (1 - (x / 7) ** 2) ** 0.5 / Z\n",
    "    elif abs(x) > 1:\n",
    "        return ((3 - abs(x)) / 2 - 3/7 * 10**0.5 * ((3 - x**2 + 2*abs(x))**0.5 - 2)) / Z\n",
    "    elif abs(x) > 0.75:\n",
    "        return (9 - 8 * abs(x)) / Z\n",
    "    elif abs(x) > 0.5:\n",
    "        return (3 * abs(x) + 0.75) / Z\n",
    "    else:\n",
    "        return 2.25 / Z"
   ]
  },
  {
   "cell_type": "code",
   "execution_count": 4,
   "metadata": {},
   "outputs": [],
   "source": [
    "x_0 = 0.5\n",
    "x_t = x_0 # current state\n",
    "\n",
    "states = []\n",
    "\n",
    "for i in range(100000):\n",
    "\n",
    "    y = stats.norm(loc=x_t, scale=2).rvs() # proposed state\n",
    "\n",
    "    # print(min(1,f(y)/f(x_t)))\n",
    "    # print(f(y)/f(x_t))\n",
    "    \n",
    "    if f(y) > f(x_t): # the proposed state has a greater probability than the proposed state\n",
    "        x_t = y     \n",
    "    else:\n",
    "        if rd.random() < (f(y)/f(x_t)):\n",
    "            x_t = y\n",
    "        else:\n",
    "            x_t = x_t\n",
    "    states.append(x_t)"
   ]
  },
  {
   "cell_type": "code",
   "execution_count": 5,
   "metadata": {},
   "outputs": [
    {
     "data": {
      "image/png": "[encoded data removed]",
      "text/plain": [
       "<Figure size 432x288 with 1 Axes>"
      ]
     },
     "metadata": {},
     "output_type": "display_data"
    }
   ],
   "source": [
    "plt.hist(states)\n",
    "plt.show()"
   ]
  }
 ],
 "metadata": {
  "anaconda-cloud": {},
  "kernelspec": {
   "display_name": "Python [CS146]",
   "language": "python",
   "name": "Python [CS146]"
  },
  "language_info": {
   "codemirror_mode": {
    "name": "ipython",
    "version": 3
   },
   "file_extension": ".py",
   "mimetype": "text/x-python",
   "name": "python",
   "nbconvert_exporter": "python",
   "pygments_lexer": "ipython3",
   "version": "3.6.5"
  }
 },
 "nbformat": 4,
 "nbformat_minor": 2
}
