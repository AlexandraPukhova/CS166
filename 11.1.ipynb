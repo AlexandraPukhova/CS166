{
 "cells": [
  {
   "cell_type": "code",
   "execution_count": 6,
   "metadata": {
    "collapsed": true
   },
   "outputs": [],
   "source": [
    "import numpy as np\n",
    "import random\n",
    "import matplotlib.pyplot as plt\n",
    "import math"
   ]
  },
  {
   "cell_type": "code",
   "execution_count": 18,
   "metadata": {},
   "outputs": [
    {
     "data": {
      "image/png": "[encoded data removed]",
      "text/plain": [
       "<Figure size 432x288 with 1 Axes>"
      ]
     },
     "metadata": {},
     "output_type": "display_data"
    },
    {
     "data": {
      "image/png": "[encoded data removed]",
      "text/plain": [
       "<Figure size 432x288 with 1 Axes>"
      ]
     },
     "metadata": {},
     "output_type": "display_data"
    }
   ],
   "source": [
    "global d\n",
    "N = 10\n",
    "T = 1\n",
    "\n",
    "def init():\n",
    "    d = np.ones((N,N),dtype=int)\n",
    "    for i in range(N):\n",
    "        for j in range(N):\n",
    "            if random.random() < 0.5:\n",
    "                d[i][j] = -1\n",
    "    return d\n",
    "\n",
    "def step(d):\n",
    "    for i in range(1000):\n",
    "        new_state= np.ones((N,N),dtype=int)\n",
    "\n",
    "    #      add all neighbours (left,right,up,bottom) and multiply by current state\n",
    "        for i in range(N):\n",
    "            for j in range(N):\n",
    "                E = -d[i][j]*(d[(i+1)%N][j] + d[i-1][j] + d[i][(j+1)%N] + d[i][j-1])\n",
    "\n",
    "\n",
    "                if random.random() < min(1,math.exp(2*E/T)):\n",
    "                    new_state[i][j] = - d[i][j]\n",
    "                else:\n",
    "                    new_state[i][j] = d[i][j]\n",
    "                    \n",
    "        d = new_state     \n",
    "    return new_state\n",
    "\n",
    "def simulate():\n",
    "    d = init()\n",
    "    draw(d)\n",
    "#     for i in range(1000):\n",
    "    d = step(d)\n",
    "    return d\n",
    "\n",
    "def draw(d):\n",
    "    plt.imshow(d)\n",
    "    plt.show()\n",
    "    \n",
    "\n",
    "final_state = simulate()\n",
    "draw(final_state)"
   ]
  },
  {
   "cell_type": "markdown",
   "metadata": {},
   "source": [
    "Trying as a single function:"
   ]
  },
  {
   "cell_type": "code",
   "execution_count": 22,
   "metadata": {},
   "outputs": [
    {
     "data": {
      "image/png": "[encoded data removed]",
      "text/plain": [
       "<Figure size 432x288 with 1 Axes>"
      ]
     },
     "metadata": {},
     "output_type": "display_data"
    },
    {
     "data": {
      "image/png": "[encoded data removed]",
      "text/plain": [
       "<Figure size 432x288 with 1 Axes>"
      ]
     },
     "metadata": {},
     "output_type": "display_data"
    }
   ],
   "source": [
    "def simulate(N, T, steps):\n",
    "    d = np.ones((N,N),dtype=int)\n",
    "    for i in range(N):\n",
    "        for j in range(N):\n",
    "            if random.random() < 0.5:\n",
    "                d[i][j] = -1\n",
    "    \n",
    "    plt.imshow(d)\n",
    "    plt.show()\n",
    "    # Step\n",
    "    #      add all neighbours (left,right,up,bottom) and multiply by current state\n",
    "    for i in range(steps):\n",
    "        new_state= np.ones((N,N),dtype=int)\n",
    "        for i in range(N):\n",
    "            for j in range(N):\n",
    "                E = -d[i][j]*(d[(i+1)%N][j] + d[i-1][j] + d[i][(j+1)%N] + d[i][j-1])\n",
    "\n",
    "\n",
    "                if random.random() < min(1,math.exp(2*E/T)):\n",
    "                    new_state[i][j] = - d[i][j]\n",
    "                else:\n",
    "                    new_state[i][j] = d[i][j]\n",
    "\n",
    "        d = new_state\n",
    "    \n",
    "    plt.imshow(d)\n",
    "    plt.show()\n",
    "\n",
    "N = 10\n",
    "T = 1\n",
    "steps = 1000\n",
    "simulate(N, T, steps)"
   ]
  }
 ],
 "metadata": {
  "kernelspec": {
   "display_name": "Python [CS146]",
   "language": "python",
   "name": "Python [CS146]"
  },
  "language_info": {
   "codemirror_mode": {
    "name": "ipython",
    "version": 3
   },
   "file_extension": ".py",
   "mimetype": "text/x-python",
   "name": "python",
   "nbconvert_exporter": "python",
   "pygments_lexer": "ipython3",
   "version": "3.6.5"
  }
 },
 "nbformat": 4,
 "nbformat_minor": 2
}
