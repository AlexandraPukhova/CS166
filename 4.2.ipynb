{
 "cells": [
  {
   "cell_type": "code",
   "execution_count": 1,
   "metadata": {
    "collapsed": true
   },
   "outputs": [],
   "source": [
    "import numpy as np\n",
    "import random as rd\n",
    "import matplotlib.pyplot as plt\n",
    "%matplotlib inline\n",
    "rd.seed(5)"
   ]
  },
  {
   "cell_type": "code",
   "execution_count": 2,
   "metadata": {
    "collapsed": true
   },
   "outputs": [],
   "source": [
    "class TrafficSimulation():\n",
    "    \n",
    "    def __init__(self, max_velocity, traffic_density, road_length, p_of_slowing_down):\n",
    "        \n",
    "        self.road_length = int(road_length)\n",
    "        self.max_velocity = max_velocity # speed limit on the road\n",
    "        \n",
    "        # Initializing the current state of the road, populating it with random velocities\n",
    "        self.current_state = np.random.randint(low=1, high=self.max_velocity+1, size=self.road_length)\n",
    "        self.next_state = np.full(self.road_length, -1)\n",
    "        \n",
    "        self.traffic_density = traffic_density\n",
    "        self.p_of_slowing_down = p_of_slowing_down   \n",
    "\n",
    "        self.distance_to_next_car = 0\n",
    "        \n",
    "        self.time = 0\n",
    "        \n",
    "    def populate_cars(self):\n",
    "        \n",
    "        # Considering the traffic density, replace some cars with empty spaces, i.e. -1s\n",
    "        for i in range(self.road_length):\n",
    "            if rd.uniform(0, 1) > self.traffic_density:\n",
    "                self.current_state[i] = -1\n",
    "\n",
    "    \n",
    "    def update(self):\n",
    "        \n",
    "        flow = 0\n",
    "        \n",
    "        self.next_state = np.full(self.road_length, -1)\n",
    "\n",
    "        for i in range(self.road_length):\n",
    "            \n",
    "            if self.current_state[i] > -1:  \n",
    "                velocity = self.current_state[i]\n",
    "                if velocity < self.max_velocity:\n",
    "                    velocity += 1\n",
    "                    \n",
    "                \n",
    "                j = i+2+velocity\n",
    "                self.next_state[i] = velocity\n",
    "                \n",
    "                if j >= len(self.current_state):\n",
    "                    last_indexes = list(range(i+1, self.road_length))\n",
    "                    beg_indexes = list(range(0, j - self.road_length))\n",
    "                    indexes = last_indexes + beg_indexes\n",
    "                else:\n",
    "                    indexes = list(range(i+1, i+1+velocity))\n",
    "                '''\n",
    "                Example:\n",
    "                \n",
    "                [-1,1,-1,2,-1]\n",
    "                for 2, i = 3; len=5, j=6\n",
    "                    1st indexes: range(4, 4) = [4]\n",
    "                    2nd indexes: range(0,1) = [0]\n",
    "                    \n",
    "                '''\n",
    "                dist_to_next_car = 0\n",
    "                for cell_index in indexes:\n",
    "                    \n",
    "                    if self.current_state[cell_index] == -1:\n",
    "                        dist_to_next_car += 1\n",
    "                    else:\n",
    "                        break\n",
    "                \n",
    "                if dist_to_next_car < velocity:\n",
    "                    self.next_state[i] = dist_to_next_car\n",
    "                    \n",
    "                if rd.uniform(0, 1) <= self.p_of_slowing_down: # random decrease in velocity\n",
    "                    if  self.next_state[i] != 0:\n",
    "                        self.next_state[i] -= 1 \n",
    "                    \n",
    "            else:\n",
    "                self.next_state[i] = -1\n",
    "        \n",
    "        new_state = [-1 for i in range(self.road_length)]\n",
    "        \n",
    "        # Parallel advancing\n",
    "        for i in range(self.road_length):\n",
    "            if self.next_state[i] > -1: \n",
    "                next_move = self.next_state[i]\n",
    "                j = i + next_move\n",
    "                \n",
    "                if j >= self.road_length:\n",
    "                    \n",
    "                    flow += 1\n",
    "                    \n",
    "                    last_indexes = list(range(i+1, self.road_length))\n",
    "                    beg_indexes = list(range(0, j - self.road_length + 1))\n",
    "                    indexes = last_indexes + beg_indexes\n",
    "                    \n",
    "#                     print('next_move{1}, indexes:{2}'.format(velocity, next_move, indexes))\n",
    "                    next_pos = indexes[next_move-1]\n",
    "                else:\n",
    "                    next_pos = j\n",
    "\n",
    "                new_state[next_pos] =  next_move\n",
    "                \n",
    "        self.current_state = new_state\n",
    "        self.time += 1\n",
    "\n",
    "        return flow\n",
    "\n",
    "        \n",
    "#             '''\n",
    "#                 [-1,-1,-1,2,-1]\n",
    "#                 for 2, i = 3; len=5, j=6\n",
    "#                     1st indexes: range(4, 4) = [4]\n",
    "#                     2nd indexes: range(0,1) = [0]\n",
    "#                     indexes: [4, 0]\n",
    "                    \n",
    "#                     next_move = 2\n",
    "                    \n",
    "#                     next_pos = indexes[next_move - 1] => 0\n",
    "#                 next_pos = 0\n",
    "#             '''\n",
    "            \n",
    "#             if self.next_state[i] > -1: \n",
    "#                 self.next_state[int(i+int(self.next_state[i]))] = int(self.next_state[i]) # advance\n",
    "    \n",
    "    def display(self):\n",
    "        print(''.join('.' if x == -1 else str(x) for x in self.next_state))"
   ]
  },
  {
   "cell_type": "code",
   "execution_count": null,
   "metadata": {
    "collapsed": true
   },
   "outputs": [],
   "source": [
    "traffic_sim = TrafficSimulation(road_length=50,\n",
    "                                traffic_density=0.4,\n",
    "                                max_velocity=5,\n",
    "                                p_of_slowing_down=0.01)\n",
    "\n",
    "traffic_sim.populate_cars()"
   ]
  },
  {
   "cell_type": "code",
   "execution_count": null,
   "metadata": {},
   "outputs": [],
   "source": [
    "traffic_sim.current_state"
   ]
  },
  {
   "cell_type": "code",
   "execution_count": null,
   "metadata": {},
   "outputs": [],
   "source": [
    "for i in range(15):\n",
    "    traffic_sim.update()\n",
    "    traffic_sim.display()"
   ]
  },
  {
   "cell_type": "code",
   "execution_count": null,
   "metadata": {},
   "outputs": [],
   "source": [
    "repetitions = 15\n",
    "\n",
    "count = []\n",
    "\n",
    "for i in range(repetitions):\n",
    "    count.append(traffic_sim.update())\n",
    "    \n",
    "print (count)\n",
    "print (sum(count)/repetitions) # flow "
   ]
  },
  {
   "cell_type": "code",
   "execution_count": 5,
   "metadata": {},
   "outputs": [
    {
     "name": "stdout",
     "output_type": "stream",
     "text": [
      "[0.13333333333333333, 0.2, 0.26666666666666666, 0.3333333333333333, 0.4, 0.26666666666666666, 0.2, 0.26666666666666666, 0.3333333333333333, 0.26666666666666666, 0.06666666666666667, 0.06666666666666667, 0.2, 0.2, 0.06666666666666667, 0.06666666666666667, 0.0, 0.0, 0.0]\n"
     ]
    }
   ],
   "source": [
    "# Traffic density\n",
    "\n",
    "# traffic_density = [0.1, 0.2, 0.3, 0.4, 0.5, 0.6, 0.7, 0.8, 0.9, 1]\n",
    "traffic_density = np.arange(0.05, 1, 0.05)\n",
    "repetitions = 15\n",
    "\n",
    "flow = []\n",
    "\n",
    "for i in traffic_density:\n",
    "    sim = TrafficSimulation(road_length=50, traffic_density=i, max_velocity=5,p_of_slowing_down=0.5)\n",
    "    sim.populate_cars()\n",
    "    \n",
    "    count = []\n",
    "    \n",
    "    for x in range(repetitions):\n",
    "        count.append(sim.update())\n",
    "    \n",
    "    flow.append(sum(count)/repetitions)\n",
    "\n",
    "print (flow)"
   ]
  },
  {
   "cell_type": "code",
   "execution_count": 7,
   "metadata": {},
   "outputs": [
    {
     "data": {
      "image/png": "[encoded data removed]",
      "text/plain": [
       "<Figure size 432x288 with 1 Axes>"
      ]
     },
     "metadata": {},
     "output_type": "display_data"
    }
   ],
   "source": [
    "plt.scatter(traffic_density, flow)\n",
    "plt.xlabel('Density (cars per site)')\n",
    "plt.ylabel('Flow (cars per time step)')\n",
    "plt.title('Simulation')\n",
    "plt.show()"
   ]
  }
 ],
 "metadata": {
  "anaconda-cloud": {},
  "kernelspec": {
   "display_name": "Python [CS146]",
   "language": "python",
   "name": "Python [CS146]"
  },
  "language_info": {
   "codemirror_mode": {
    "name": "ipython",
    "version": 3
   },
   "file_extension": ".py",
   "mimetype": "text/x-python",
   "name": "python",
   "nbconvert_exporter": "python",
   "pygments_lexer": "ipython3",
   "version": "3.6.5"
  }
 },
 "nbformat": 4,
 "nbformat_minor": 2
}
