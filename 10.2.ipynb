{
 "cells": [
  {
   "cell_type": "code",
   "execution_count": 2,
   "metadata": {
    "collapsed": true
   },
   "outputs": [],
   "source": [
    "import numpy as np\n",
    "import random \n",
    "import matplotlib.pyplot as plt\n",
    "from scipy import stats\n",
    "%matplotlib inline"
   ]
  },
  {
   "cell_type": "markdown",
   "metadata": {},
   "source": [
    "***Part I***"
   ]
  },
  {
   "cell_type": "code",
   "execution_count": 60,
   "metadata": {},
   "outputs": [
    {
     "name": "stdout",
     "output_type": "stream",
     "text": [
      "Exponential expected waiting time is:  1.5408300918495923\n",
      "Uniform expected waiting time is:  1.7972254451659568\n"
     ]
    }
   ],
   "source": [
    "par_lambda = 1\n",
    "exp = []\n",
    "uniform = []\n",
    "\n",
    "first = stats.expon(par_lambda**(-1)).rvs()\n",
    "second = stats.uniform(0,par_lambda*2).rvs()\n",
    "\n",
    "for i in range(100000):\n",
    "    exp.append(first)\n",
    "    uniform.append(second)\n",
    "\n",
    "print (\"Exponential expected waiting time is: \",(np.mean(exp)))\n",
    "print (\"Uniform expected waiting time is: \", (np.mean(uniform)))"
   ]
  },
  {
   "cell_type": "code",
   "execution_count": 61,
   "metadata": {},
   "outputs": [
    {
     "name": "stdout",
     "output_type": "stream",
     "text": [
      "Exponential expected waiting time is:  0.9901929744899508\n",
      "Uniform expected waiting time is:  1.001113358230784\n"
     ]
    }
   ],
   "source": [
    "par_lambda = 1\n",
    "exp = []\n",
    "uniform = []\n",
    "\n",
    "for i in range(10000):\n",
    "    exp.append(np.random.exponential(par_lambda))\n",
    "    uniform.append(np.random.uniform(0, par_lambda*2))\n",
    "\n",
    "print (\"Exponential expected waiting time is: \",(np.mean(exp)))\n",
    "print (\"Uniform expected waiting time is: \", (np.mean(uniform)))"
   ]
  },
  {
   "cell_type": "code",
   "execution_count": 63,
   "metadata": {},
   "outputs": [
    {
     "data": {
      "image/png": "[encoded data removed]",
      "text/plain": [
       "<Figure size 432x288 with 1 Axes>"
      ]
     },
     "metadata": {},
     "output_type": "display_data"
    }
   ],
   "source": [
    "plt.hist(exp)\n",
    "plt.show()"
   ]
  },
  {
   "cell_type": "code",
   "execution_count": 64,
   "metadata": {},
   "outputs": [
    {
     "data": {
      "image/png": "[encoded data removed]",
      "text/plain": [
       "<Figure size 432x288 with 1 Axes>"
      ]
     },
     "metadata": {},
     "output_type": "display_data"
    }
   ],
   "source": [
    "plt.hist(uniform)\n",
    "plt.show()"
   ]
  },
  {
   "cell_type": "markdown",
   "metadata": {},
   "source": [
    "***Part II***"
   ]
  },
  {
   "cell_type": "code",
   "execution_count": 7,
   "metadata": {},
   "outputs": [],
   "source": [
    "data = {50: 0.00832, 51: 0.00911, 52: 0.00996, 53: 0.01089, 54: 0.01190,\n",
    "        55: 0.01300, 56: 0.01421, 57: 0.01554, 58: 0.01700, 59: 0.01859,\n",
    "        60: 0.02034, 61: 0.02224, 62: 0.02431, 63: 0.02657, 64: 0.02904,\n",
    "        65: 0.03175, 66: 0.03474, 67: 0.03804, 68: 0.04168, 69: 0.04561,\n",
    "        70: 0.04979, 71: 0.05415, 72: 0.05865, 73: 0.06326, 74: 0.06812,\n",
    "        75: 0.07337, 76: 0.07918, 77: 0.08570, 78: 0.09306, 79: 0.10119,\n",
    "        80: 0.10998, 81: 0.11935, 82: 0.12917, 83: 0.13938, 84: 0.15001,\n",
    "        85: 0.16114, 86: 0.17282, 87: 0.18513, 88: 0.19825, 89: 0.21246,\n",
    "        90: 0.22814, 91: 0.24577, 92: 0.26593, 93: 0.28930, 94: 0.31666,\n",
    "        95: 0.35124, 96: 0.40056, 97: 0.48842, 98: 0.66815, 99: 0.72000,\n",
    "        100: 0.76000, 101: 0.80000, 102: 0.85000, 103: 0.90000,\n",
    "        104: 0.96000, 105: 1.00000}\n",
    "\n",
    "n = 1000\n",
    "initial_investment = 150000\n",
    "final_withdrawal = 65000\n",
    "interest = stats.norm.rvs(loc=.08, scale=0.09, size=1) # note: scale parametarized by SD\n",
    "to_plot = []"
   ]
  },
  {
   "cell_type": "code",
   "execution_count": 12,
   "metadata": {},
   "outputs": [
    {
     "data": {
      "image/png": "[encoded data removed]",
      "text/plain": [
       "<Figure size 432x288 with 1 Axes>"
      ]
     },
     "metadata": {},
     "output_type": "display_data"
    }
   ],
   "source": [
    "for _ in range(n):\n",
    "    \n",
    "    age = 50\n",
    "    money = initial_investment\n",
    "    \n",
    "    while data[age] < random.random():\n",
    "        if age < 70:\n",
    "            money *= float(interest)\n",
    "            money += 10000            \n",
    "        else:\n",
    "            money *= float(interest)\n",
    "            money -= final_withdrawal\n",
    "        age += 1\n",
    "    \n",
    "    to_plot.append(money)\n",
    "\n",
    "plt.hist(to_plot)\n",
    "plt.show()"
   ]
  }
 ],
 "metadata": {
  "kernelspec": {
   "display_name": "Python [CS146]",
   "language": "python",
   "name": "Python [CS146]"
  },
  "language_info": {
   "codemirror_mode": {
    "name": "ipython",
    "version": 3
   },
   "file_extension": ".py",
   "mimetype": "text/x-python",
   "name": "python",
   "nbconvert_exporter": "python",
   "pygments_lexer": "ipython3",
   "version": "3.6.5"
  }
 },
 "nbformat": 4,
 "nbformat_minor": 2
}
